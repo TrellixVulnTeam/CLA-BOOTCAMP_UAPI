{
  "nbformat": 4,
  "nbformat_minor": 0,
  "metadata": {
    "colab": {
      "name": "ComputationGraphs.ipynb",
      "provenance": [],
      "collapsed_sections": [],
      "authorship_tag": "ABX9TyM0kylQPIhgxuJMeLqLylan",
      "include_colab_link": true
    },
    "kernelspec": {
      "name": "python3",
      "display_name": "Python 3"
    },
    "language_info": {
      "name": "python"
    }
  },
  "cells": [
    {
      "cell_type": "markdown",
      "metadata": {
        "id": "view-in-github",
        "colab_type": "text"
      },
      "source": [
        "<a href=\"https://colab.research.google.com/github/mahdid-lilia/CLA-BOOTCAMP/blob/master/Unit%204/Homeworks/ComputationGraphs.ipynb\" target=\"_parent\"><img src=\"https://colab.research.google.com/assets/colab-badge.svg\" alt=\"Open In Colab\"/></a>"
      ]
    },
    {
      "cell_type": "code",
      "execution_count": 34,
      "metadata": {
        "id": "aziE5Bbs3smp"
      },
      "outputs": [],
      "source": [
        "import tensorflow as tf\n",
        "import timeit"
      ]
    },
    {
      "cell_type": "code",
      "source": [
        "def eager_sigmoid_function(x):\n",
        "  return 1/(1+tf.math.exp(-x))"
      ],
      "metadata": {
        "id": "YupUS9IePztF"
      },
      "execution_count": 35,
      "outputs": []
    },
    {
      "cell_type": "code",
      "source": [
        "x= tf.random.uniform([10])\n",
        "eager_sigmoid_function(x)"
      ],
      "metadata": {
        "id": "jSPiE7JMQN4T",
        "colab": {
          "base_uri": "https://localhost:8080/"
        },
        "outputId": "c6af0408-3e3c-4c74-87c5-50cf766076b3"
      },
      "execution_count": 36,
      "outputs": [
        {
          "output_type": "execute_result",
          "data": {
            "text/plain": [
              "<tf.Tensor: shape=(10,), dtype=float32, numpy=\n",
              "array([0.64246744, 0.54139656, 0.7095581 , 0.57526755, 0.7241431 ,\n",
              "       0.6812413 , 0.5880391 , 0.5361345 , 0.582012  , 0.66122603],\n",
              "      dtype=float32)>"
            ]
          },
          "metadata": {},
          "execution_count": 36
        }
      ]
    },
    {
      "cell_type": "code",
      "source": [
        "graph_sigmoid_function= tf.function(eager_sigmoid_function)"
      ],
      "metadata": {
        "id": "rr15_2pYQayG"
      },
      "execution_count": 37,
      "outputs": []
    },
    {
      "cell_type": "code",
      "source": [
        "graph_sigmoid_function(x)"
      ],
      "metadata": {
        "id": "XvXqfSpeQrYS",
        "colab": {
          "base_uri": "https://localhost:8080/"
        },
        "outputId": "f1f4eea6-c3dd-4831-802a-dd72abe35d91"
      },
      "execution_count": 38,
      "outputs": [
        {
          "output_type": "execute_result",
          "data": {
            "text/plain": [
              "<tf.Tensor: shape=(10,), dtype=float32, numpy=\n",
              "array([0.64246744, 0.54139656, 0.7095581 , 0.57526755, 0.7241431 ,\n",
              "       0.6812413 , 0.5880391 , 0.5361345 , 0.582012  , 0.66122603],\n",
              "      dtype=float32)>"
            ]
          },
          "metadata": {},
          "execution_count": 38
        }
      ]
    },
    {
      "cell_type": "code",
      "source": [
        "print(\"Eager time:\", timeit.timeit(lambda: eager_sigmoid_function(x), number=100))\n",
        "print(\"Graph time:\", timeit.timeit(lambda: graph_sigmoid_function(x), number=100))\n"
      ],
      "metadata": {
        "id": "klOBL3V8Qv7L",
        "colab": {
          "base_uri": "https://localhost:8080/"
        },
        "outputId": "91c3f5a5-dd41-4c70-d0c1-78807db5a518"
      },
      "execution_count": 39,
      "outputs": [
        {
          "output_type": "stream",
          "name": "stdout",
          "text": [
            "Eager time: 0.02451513999949384\n",
            "Graph time: 0.04187623899997561\n"
          ]
        }
      ]
    },
    {
      "cell_type": "markdown",
      "source": [
        "We noticed that Eager mode is faster, this is because of the time that the graphic construction takes "
      ],
      "metadata": {
        "id": "-EE6-DgqRR5Z"
      }
    },
    {
      "cell_type": "code",
      "source": [
        "from tensorflow.keras import Sequential, Model \n",
        "from tensorflow.keras.layers import Flatten, Dense \n",
        "model= Sequential ([\n",
        "                    Flatten(input_shape=(28,28)),\n",
        "                    Dense(512, activation='relu'),\n",
        "                    Dense(256, activation='relu'),\n",
        "                    Dense(128, activation='relu'),\n",
        "                    Dense(64, activation='relu'),\n",
        "                    Dense(32, activation='relu'),\n",
        "                    Dense(10, activation='softmax'),\n",
        "])\n",
        "input_data= tf.random.uniform([1000,28,28])\n",
        "eager_model= model\n",
        "eager_time= timeit.timeit(lambda:eager_sigmoid_function(input_data), number=1000)\n",
        "print('Eager time:', eager_time)\n",
        "\n",
        "graph_model=tf.function(eager_model)\n",
        "graph_time=timeit.timeit(lambda: graph_model(input_data), number=1000)\n",
        "print('Graph time:', graph_time)\n",
        "\n",
        "faster=\"Graph\" if graph_time<eager_time else \"Eager\"\n",
        "speedup= eager_time/graph_time if graph_time< eager_time else graph_time/eager_time \n",
        "print(faster, 'execution mode was', speedup , 'x faster!')"
      ],
      "metadata": {
        "colab": {
          "base_uri": "https://localhost:8080/"
        },
        "id": "JruTcZXnd-_T",
        "outputId": "a04f3e49-a24c-4162-8860-59563a82d34f"
      },
      "execution_count": 40,
      "outputs": [
        {
          "output_type": "stream",
          "name": "stdout",
          "text": [
            "Eager time: 3.043871554999896\n",
            "Graph time: 19.688165248000587\n",
            "Eager execution mode was 6.468132735647336 x faster!\n"
          ]
        }
      ]
    },
    {
      "cell_type": "code",
      "source": [
        ""
      ],
      "metadata": {
        "id": "DT-6QHZweILS"
      },
      "execution_count": 40,
      "outputs": []
    }
  ]
}