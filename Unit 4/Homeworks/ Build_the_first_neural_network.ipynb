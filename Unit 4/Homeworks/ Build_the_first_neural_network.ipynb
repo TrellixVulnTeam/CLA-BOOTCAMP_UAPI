{
  "nbformat": 4,
  "nbformat_minor": 0,
  "metadata": {
    "colab": {
      "name": "Build the first neural network.ipynb",
      "provenance": [],
      "authorship_tag": "ABX9TyOh9kHGzoA1rxgScPcDpfH9",
      "include_colab_link": true
    },
    "kernelspec": {
      "name": "python3",
      "display_name": "Python 3"
    },
    "language_info": {
      "name": "python"
    }
  },
  "cells": [
    {
      "cell_type": "markdown",
      "metadata": {
        "id": "view-in-github",
        "colab_type": "text"
      },
      "source": [
        "<a href=\"https://colab.research.google.com/github/mahdid-lilia/CLA-BOOTCAMP/blob/master/Unit%204/Homeworks/%20Build_the_first_neural_network.ipynb\" target=\"_parent\"><img src=\"https://colab.research.google.com/assets/colab-badge.svg\" alt=\"Open In Colab\"/></a>"
      ]
    },
    {
      "cell_type": "code",
      "source": [
        "import numpy as np\n",
        "np.random.seed(1)"
      ],
      "metadata": {
        "id": "CLz7Mgrkb5UD"
      },
      "execution_count": 1,
      "outputs": []
    },
    {
      "cell_type": "code",
      "source": [
        "X= np.array([[0,0],\n",
        "            [0,1],\n",
        "            [1,0],\n",
        "            [1,1]\n",
        "             ])\n",
        "Y=np.array([\n",
        "            [0],\n",
        "            [1],\n",
        "            [1],\n",
        "            [0]\n",
        "])\n",
        "X.shape, Y.shape"
      ],
      "metadata": {
        "colab": {
          "base_uri": "https://localhost:8080/"
        },
        "id": "OyULQBjub8yA",
        "outputId": "0fe381ed-8054-4a70-f67e-efb4c6980efb"
      },
      "execution_count": 2,
      "outputs": [
        {
          "output_type": "execute_result",
          "data": {
            "text/plain": [
              "((4, 2), (4, 1))"
            ]
          },
          "metadata": {},
          "execution_count": 2
        }
      ]
    },
    {
      "cell_type": "markdown",
      "source": [
        "By visualizing our data points, we notice that the two classes can not be separated by a linear boundary, thus, linear models such as logistic regression won't be able to solve this problem, NN can successfully approximate functions that do not follow linearity, so our model will be able to perform the function of the xor gate correctly "
      ],
      "metadata": {
        "id": "Xs8yj4q8dZqg"
      }
    },
    {
      "cell_type": "code",
      "source": [
        "from matplotlib import pyplot as plt \n",
        "for i in range(2):\n",
        "  s= np.where(Y.flatten()==i)\n",
        "  plt.scatter(X[s].T[0], X[s].T[1], label=str(i))\n",
        "plt.legend()\n",
        "plt.show()"
      ],
      "metadata": {
        "colab": {
          "base_uri": "https://localhost:8080/",
          "height": 265
        },
        "id": "6c_pixATecNg",
        "outputId": "77e292a6-d28d-4044-a238-bc42f0131398"
      },
      "execution_count": 3,
      "outputs": [
        {
          "output_type": "display_data",
          "data": {
            "text/plain": [
              "<Figure size 432x288 with 1 Axes>"
            ],
            "image/png": "[encoded data removed]"
          },
          "metadata": {
            "needs_background": "light"
          }
        }
      ]
    },
    {
      "cell_type": "code",
      "source": [
        "def sigmoid(X):\n",
        "    return 1/(1+np.exp(-X))"
      ],
      "metadata": {
        "id": "71UYSqDifWmw"
      },
      "execution_count": 4,
      "outputs": []
    },
    {
      "cell_type": "code",
      "source": [
        "def InitializeParametersHe(inputSize, hiddenLayerSize, outputSize):\n",
        "    w1= np.random.randn(hiddenLayerSize, inputSize)* np.sqrt(2/inputSize)\n",
        "    w2=np.random.randn(outputSize, hiddenLayerSize)  *np.sqrt(2/hiddenLayerSize)\n",
        "    b1= np.zeros((hiddenLayerSize, 1))\n",
        "    b2= np.zeros((outputSize,1) )   \n",
        "    parameters={\"W1\":w1, \"b1\":b1, \"W2\": w2, \"b2\": b2}\n",
        "    return parameters "
      ],
      "metadata": {
        "id": "nMocVqJwgJr-"
      },
      "execution_count": 21,
      "outputs": []
    },
    {
      "cell_type": "code",
      "source": [
        "def forwardPropagation(X,Y, parameters):\n",
        "    W1 ,W2, b1, b2= parameters[\"W1\"],parameters[\"W2\"], parameters[\"b1\"], parameters[\"b2\"]\n",
        "    Z1= np.dot(X, W1.T)+b1.T\n",
        "    A1=sigmoid(Z1)\n",
        "    Z2=np.dot(A1, W2.T)+b2.T\n",
        "    A2=sigmoid(Z2)\n",
        "    cache =(Z1, A1, W1, b1, Z2 ,A2 ,W2 ,b2)\n",
        "    cross_entropies= -(np.multiply(Y, np.log(A2)) + np.multiply((1-Y), np.log(1-A2)))\n",
        "    cost= np.sum(cross_entropies)/ X.shape[0]\n",
        "    return cost, cache, A2"
      ],
      "metadata": {
        "id": "-owj-18egx9u"
      },
      "execution_count": 27,
      "outputs": []
    },
    {
      "cell_type": "code",
      "source": [
        "from inspect import Parameter\n",
        "def backwardPropagation(X, Y, cache):\n",
        "  m=X.shape[0]\n",
        "  (Z1, A1, W1, b1, Z2 ,A2 ,W2 ,b2)=cache \n",
        "  dZ2 = A2-Y\n",
        "  dW2= np.dot( dZ2.T, A1)/m\n",
        "  db2= np.sum(dZ2.T, axis=1, keepdims=True)\n",
        "  dA1=np.dot(dZ2, W2)\n",
        "  dZ1= np.multiply(dA1, A1* (1-A1))\n",
        "  dW1= np.dot(dZ1.T, X)/m\n",
        "  db1= np.sum(dZ1.T, axis=1, keepdims=True)/m\n",
        "  gradients={\"dZ2\": dZ2, \"dW2\": dW2, \"db2\":db2, \"dZ1\":dZ1, \"dW1\":dW1, \"db1\":db1}\n",
        "  return gradients \n",
        " \n",
        "\n",
        "\n"
      ],
      "metadata": {
        "id": "1EVpoZh4gxz5"
      },
      "execution_count": 39,
      "outputs": []
    },
    {
      "cell_type": "code",
      "source": [
        " def updateParameters(parameters, gradients, learningRate):\n",
        "    parameters[\"W1\"]= parameters[\"W1\"]- learningRate * gradients[\"dW1\"]\n",
        "    parameters[\"W2\"]= parameters[\"W2\"]- learningRate * gradients[\"dW2\"]\n",
        "    parameters[\"b1\"]= parameters[\"b1\"]- learningRate * gradients[\"db1\"]\n",
        "    parameters[\"b2\"]= parameters[\"b2\"]- learningRate * gradients[\"db2\"]\n",
        "    return parameters\n",
        "    "
      ],
      "metadata": {
        "id": "6eZM-yzAlyUw"
      },
      "execution_count": 54,
      "outputs": []
    },
    {
      "cell_type": "code",
      "source": [
        "hiddenLayerSize=2 #(2)\n",
        "inputLayerSize= X.shape[1] #(2)\n",
        "outputLayerSize= Y.shape[1] #(1)\n",
        "parameters= InitializeParametersHe(inputLayerSize, hiddenLayerSize, outputLayerSize)\n"
      ],
      "metadata": {
        "id": "uMJEEQBzly_r"
      },
      "execution_count": 55,
      "outputs": []
    },
    {
      "cell_type": "code",
      "source": [
        "epoch= 10000\n",
        "learningRate= 0.1\n",
        "losses= np.zeros((epoch, 1))\n",
        "for i in range(epoch):\n",
        "  losses[i, 0], cache, A2= forwardPropagation(X,Y, parameters)\n",
        "  gradients= backwardPropagation(X, Y, cache)\n",
        "  parameters= updateParameters(parameters, gradients, learningRate)\n"
      ],
      "metadata": {
        "id": "yiff9ScsmQUE"
      },
      "execution_count": 56,
      "outputs": []
    },
    {
      "cell_type": "code",
      "source": [
        "plt.figure()\n",
        "plt.plot(losses)\n",
        "plt.xlabel(\"EPOCHS\")\n",
        "plt.ylabel(\"loss value\")\n",
        "plt.show()"
      ],
      "metadata": {
        "colab": {
          "base_uri": "https://localhost:8080/",
          "height": 279
        },
        "id": "1UeyTGgBnNBo",
        "outputId": "f5f10953-2b4a-4253-d411-c983759430bc"
      },
      "execution_count": 58,
      "outputs": [
        {
          "output_type": "display_data",
          "data": {
            "text/plain": [
              "<Figure size 432x288 with 1 Axes>"
            ],
            "image/png": "[encoded data removed]"
          },
          "metadata": {
            "needs_background": "light"
          }
        }
      ]
    },
    {
      "cell_type": "code",
      "source": [
        "cost, _, A2= forwardPropagation(X, Y, parameters)\n",
        "prediction= (A2>0.5)* 1.0\n",
        "print(cost)\n",
        "print(prediction)"
      ],
      "metadata": {
        "colab": {
          "base_uri": "https://localhost:8080/"
        },
        "id": "2C68Uoa8ocul",
        "outputId": "aaaf7cbe-6241-468a-f4f4-724a5306be25"
      },
      "execution_count": 60,
      "outputs": [
        {
          "output_type": "stream",
          "name": "stdout",
          "text": [
            "0.01300089161646585\n",
            "[[0.]\n",
            " [1.]\n",
            " [1.]\n",
            " [0.]]\n"
          ]
        }
      ]
    },
    {
      "cell_type": "markdown",
      "source": [
        "As we can see, the output is correct and our model is performing the task of xor gate perfectly which proves that the neural network can successfully predict the class of a function that is devided by a non linear decision boundary "
      ],
      "metadata": {
        "id": "MrmBwNMws2st"
      }
    },
    {
      "cell_type": "code",
      "source": [
        ""
      ],
      "metadata": {
        "id": "CHp580RfshZw"
      },
      "execution_count": null,
      "outputs": []
    }
  ]
}