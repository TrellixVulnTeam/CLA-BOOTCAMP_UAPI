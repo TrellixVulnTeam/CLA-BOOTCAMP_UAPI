{
  "cells": [
    {
      "cell_type": "code",
      "execution_count": 1,
      "id": "67b23c7e",
      "metadata": {
        "id": "67b23c7e"
      },
      "outputs": [],
      "source": [
        "import numpy as np\n",
        "import matplotlib.pyplot as plt\n",
        "np.random.seed(1)\n",
        "import warnings\n",
        "warnings.filterwarnings('ignore')\n"
      ]
    },
    {
      "cell_type": "code",
      "execution_count": 2,
      "id": "c342df25",
      "metadata": {
        "colab": {
          "base_uri": "https://localhost:8080/",
          "height": 265
        },
        "id": "c342df25",
        "outputId": "34a53ab9-88ad-4799-d871-2601e0d00a0a"
      },
      "outputs": [
        {
          "output_type": "display_data",
          "data": {
            "text/plain": [
              "<Figure size 432x288 with 1 Axes>"
            ],
            "image/png": "[encoded data removed]"
          },
          "metadata": {
            "needs_background": "light"
          }
        }
      ],
      "source": [
        "from sklearn.datasets import make_circles \n",
        "#generate the dataset \n",
        "X, y= make_circles(n_samples=1000, noise=0.05, random_state=1) \n",
        "#select indices ofpoints with each class label \n",
        "for i in range(2):\n",
        "    samples_ix= np.where(y==i)\n",
        "    plt.scatter(X[samples_ix, 0], X[samples_ix, 1], label=str(i))\n",
        "    \n",
        "plt.legend()\n",
        "plt.show()\n"
      ]
    },
    {
      "cell_type": "code",
      "execution_count": 3,
      "id": "87895bb4",
      "metadata": {
        "id": "87895bb4"
      },
      "outputs": [],
      "source": [
        "def sigmoid(X):\n",
        "    return 1/(1+np.exp(-X))\n",
        "def relu(X):\n",
        "    return np.maximum(0,X)\n"
      ]
    },
    {
      "cell_type": "code",
      "execution_count": 4,
      "id": "6748ddef",
      "metadata": {
        "id": "6748ddef"
      },
      "outputs": [],
      "source": [
        "def forwardPass(X, parametres):\n",
        "    W1 ,W2, b1, b2= parametres[\"W1\"],parametres[\"W2\"], parametres[\"b1\"], parametres[\"b2\"]\n",
        "    Z1= np.dot(X, W1.T)+b1.T\n",
        "    A1=sigmoid(Z1)\n",
        "    Z2=np.dot(A1, W2.T)+b2.T\n",
        "    A2=sigmoid(Z2)\n",
        "    return A2"
      ]
    },
    {
      "cell_type": "code",
      "execution_count": 5,
      "id": "0f1d7eaf",
      "metadata": {
        "colab": {
          "base_uri": "https://localhost:8080/"
        },
        "id": "0f1d7eaf",
        "outputId": "65858680-e575-4e62-fdc3-3a6989cb62c9"
      },
      "outputs": [
        {
          "output_type": "stream",
          "name": "stdout",
          "text": [
            "output [[0.03266079]]\n",
            "prediction [[0.]]\n",
            "Target 1\n"
          ]
        }
      ],
      "source": [
        "# Testing the forward pass \n",
        "# I nitializing the weights randomly\n",
        "W1=np.array([[2, 3], [0.5, -5]])\n",
        "b1= np.array([[1], [-2]])\n",
        "W2=np.array([[0.1,-4.5]])\n",
        "b2=np.array([[0]])\n",
        "\n",
        "parametres={\"W1\": W1,\"b1\":b1,\"W2\": W2, \"b2\":b2}\n",
        "#pcking a data point \n",
        "X_1= X[1]\n",
        "#Executing the forward pass\n",
        "A2= forwardPass(X_1, parametres)\n",
        "\n",
        "#printing results\n",
        "print (\"output\", A2)\n",
        "print(\"prediction\", (A2>0.5)*1.0)\n",
        "print(\"Target\", y[0])\n",
        "\n",
        "\n"
      ]
    },
    {
      "cell_type": "markdown",
      "id": "fde911bb",
      "metadata": {
        "id": "fde911bb"
      },
      "source": [
        "## Weight Initialization "
      ]
    },
    {
      "cell_type": "code",
      "execution_count": 6,
      "id": "d6e8fba2",
      "metadata": {
        "id": "d6e8fba2"
      },
      "outputs": [],
      "source": [
        "# Initializing with some random values\n",
        "def InitializeParametersRandom(inputSize, hiddenLayerSize, outputSize):\n",
        "    w1= np.random.randn(hiddenLayerSize, inputSize)* 1e-6\n",
        "    w2=np.randomn.randn(outputSize, hiddenLayerSize)  *1e-6\n",
        "    b1= np.zeros((hiddenLayerSize, 1))\n",
        "    b2= np.zeros((outputSize,1) )   \n",
        "    parameters={\"w1\":w1, \"b1\":b1, \"w2\": w2, \"b2\": b2}\n",
        "    return parameters "
      ]
    },
    {
      "cell_type": "code",
      "execution_count": 7,
      "id": "d5673f95",
      "metadata": {
        "id": "d5673f95"
      },
      "outputs": [],
      "source": [
        "# He Initialization\n",
        "def InitializeParametersHe(inputSize, hiddenLayerSize, outputSize):\n",
        "    w1= np.random.randn(hiddenLayerSize, inputSize)* np.sqrt(2/inputSize)\n",
        "    w2=np.random.randn(outputSize, hiddenLayerSize)  *np.sqrt(2/hiddenLayerSize)\n",
        "    b1= np.zeros((hiddenLayerSize, 1))\n",
        "    b2= np.zeros((outputSize,1) )   \n",
        "    parameters={\"w1\":w1, \"b1\":b1, \"w2\": w2, \"b2\": b2}\n",
        "    return parameters "
      ]
    },
    {
      "cell_type": "code",
      "execution_count": 8,
      "id": "07c02c7a",
      "metadata": {
        "id": "07c02c7a"
      },
      "outputs": [],
      "source": [
        "#preparing our data \n",
        "from sklearn.model_selection import train_test_split\n",
        "X_train, X_test, y_train,y_test = train_test_split(X, y, test_size=0.1, random_state=1) "
      ]
    },
    {
      "cell_type": "code",
      "execution_count": 9,
      "id": "fbdb1345",
      "metadata": {
        "colab": {
          "base_uri": "https://localhost:8080/"
        },
        "id": "fbdb1345",
        "outputId": "2cadd383-f7f3-4cc2-d4e2-add4cc1f0b66"
      },
      "outputs": [
        {
          "output_type": "execute_result",
          "data": {
            "text/plain": [
              "array([[1],\n",
              "       [1],\n",
              "       [1],\n",
              "       [0],\n",
              "       [0],\n",
              "       [0],\n",
              "       [0],\n",
              "       [0],\n",
              "       [0],\n",
              "       [1],\n",
              "       [0],\n",
              "       [1],\n",
              "       [1],\n",
              "       [0],\n",
              "       [1],\n",
              "       [0],\n",
              "       [0],\n",
              "       [0],\n",
              "       [1],\n",
              "       [0],\n",
              "       [1],\n",
              "       [1],\n",
              "       [1],\n",
              "       [0],\n",
              "       [0],\n",
              "       [1],\n",
              "       [0],\n",
              "       [1],\n",
              "       [0],\n",
              "       [1],\n",
              "       [0],\n",
              "       [1],\n",
              "       [0],\n",
              "       [0],\n",
              "       [0],\n",
              "       [1],\n",
              "       [0],\n",
              "       [1],\n",
              "       [1],\n",
              "       [0],\n",
              "       [1],\n",
              "       [0],\n",
              "       [1],\n",
              "       [0],\n",
              "       [0],\n",
              "       [0],\n",
              "       [1],\n",
              "       [1],\n",
              "       [1],\n",
              "       [1],\n",
              "       [1],\n",
              "       [0],\n",
              "       [1],\n",
              "       [0],\n",
              "       [1],\n",
              "       [1],\n",
              "       [0],\n",
              "       [0],\n",
              "       [0],\n",
              "       [0],\n",
              "       [0],\n",
              "       [0],\n",
              "       [0],\n",
              "       [1],\n",
              "       [1],\n",
              "       [1],\n",
              "       [0],\n",
              "       [1],\n",
              "       [1],\n",
              "       [0],\n",
              "       [0],\n",
              "       [1],\n",
              "       [0],\n",
              "       [0],\n",
              "       [1],\n",
              "       [1],\n",
              "       [1],\n",
              "       [0],\n",
              "       [1],\n",
              "       [1],\n",
              "       [1],\n",
              "       [0],\n",
              "       [0],\n",
              "       [0],\n",
              "       [0],\n",
              "       [1],\n",
              "       [1],\n",
              "       [1],\n",
              "       [1],\n",
              "       [1],\n",
              "       [0],\n",
              "       [1],\n",
              "       [1],\n",
              "       [1],\n",
              "       [0],\n",
              "       [1],\n",
              "       [0],\n",
              "       [1],\n",
              "       [1],\n",
              "       [0]])"
            ]
          },
          "metadata": {},
          "execution_count": 9
        }
      ],
      "source": [
        "y_train.reshape((-1, 1))\n",
        "y_test.reshape((-1, 1))"
      ]
    },
    {
      "cell_type": "code",
      "execution_count": 10,
      "id": "2b76d344",
      "metadata": {
        "id": "2b76d344"
      },
      "outputs": [],
      "source": [
        "hiddenLayerSize= 10 #number of hidder layer neurons (2)\n",
        "inputSize= X_train.shape[0] # number of input features(2)\n",
        "outputSize= y_train.shape[0] # number of output features (1)"
      ]
    },
    {
      "cell_type": "code",
      "execution_count": 27,
      "id": "8fcddf9f",
      "metadata": {
        "colab": {
          "base_uri": "https://localhost:8080/",
          "height": 357
        },
        "id": "8fcddf9f",
        "outputId": "b0af97a9-5b07-4b54-f113-a3faf2755b67"
      },
      "outputs": [
        {
          "output_type": "error",
          "ename": "ModuleNotFoundError",
          "evalue": "ignored",
          "traceback": [
            "\u001b[0;31m---------------------------------------------------------------------------\u001b[0m",
            "\u001b[0;31mModuleNotFoundError\u001b[0m                       Traceback (most recent call last)",
            "\u001b[0;32m<ipython-input-27-f7de4bae6d7d>\u001b[0m in \u001b[0;36m<module>\u001b[0;34m()\u001b[0m\n\u001b[1;32m      4\u001b[0m \u001b[0;31m# #python -m pip install utils\u001b[0m\u001b[0;34m\u001b[0m\u001b[0;34m\u001b[0m\u001b[0;34m\u001b[0m\u001b[0m\n\u001b[1;32m      5\u001b[0m \u001b[0;31m# from utils import *\u001b[0m\u001b[0;34m\u001b[0m\u001b[0;34m\u001b[0m\u001b[0;34m\u001b[0m\u001b[0m\n\u001b[0;32m----> 6\u001b[0;31m \u001b[0;32mfrom\u001b[0m \u001b[0mutils\u001b[0m \u001b[0;32mimport\u001b[0m \u001b[0mforwardPass\u001b[0m\u001b[0;34m,\u001b[0m \u001b[0mfit\u001b[0m\u001b[0;34m\u001b[0m\u001b[0;34m\u001b[0m\u001b[0m\n\u001b[0m\u001b[1;32m      7\u001b[0m \u001b[0;31m# frowrardPass calculates the cost\u001b[0m\u001b[0;34m\u001b[0m\u001b[0;34m\u001b[0m\u001b[0;34m\u001b[0m\u001b[0m\n",
            "\u001b[0;31mModuleNotFoundError\u001b[0m: No module named 'utils'",
            "",
            "\u001b[0;31m---------------------------------------------------------------------------\u001b[0;32m\nNOTE: If your import is failing due to a missing package, you can\nmanually install dependencies using either !pip or !apt.\n\nTo view examples of installing some common dependencies, click the\n\"Open Examples\" button below.\n\u001b[0;31m---------------------------------------------------------------------------\u001b[0m\n"
          ],
          "errorDetails": {
            "actions": [
              {
                "action": "open_url",
                "actionText": "Open Examples",
                "url": "/notebooks/snippets/importing_libraries.ipynb"
              }
            ]
          }
        }
      ],
      "source": [
        "import python_utils\n",
        "# !python install utils\n",
        "# #pip install jupyter_utils\n",
        "# #python -m pip install utils\n",
        "# from utils import *\n",
        "from utils import forwardPass, fit \n",
        "# frowrardPass calculates the cost "
      ]
    },
    {
      "cell_type": "markdown",
      "id": "79ac4789",
      "metadata": {
        "id": "79ac4789"
      },
      "source": [
        "We will use the He initilization and we will train it for 10000 effects  "
      ]
    },
    {
      "cell_type": "code",
      "execution_count": 12,
      "id": "34e9b47e",
      "metadata": {
        "colab": {
          "base_uri": "https://localhost:8080/",
          "height": 183
        },
        "id": "34e9b47e",
        "outputId": "9d40efcf-03ce-419f-eca9-d8f226dbe2cd"
      },
      "outputs": [
        {
          "output_type": "error",
          "ename": "NameError",
          "evalue": "ignored",
          "traceback": [
            "\u001b[0;31m---------------------------------------------------------------------------\u001b[0m",
            "\u001b[0;31mNameError\u001b[0m                                 Traceback (most recent call last)",
            "\u001b[0;32m<ipython-input-12-bdab410325a6>\u001b[0m in \u001b[0;36m<module>\u001b[0;34m()\u001b[0m\n\u001b[1;32m      1\u001b[0m \u001b[0mparameters_1\u001b[0m\u001b[0;34m=\u001b[0m \u001b[0mInitializeParametersHe\u001b[0m\u001b[0;34m(\u001b[0m\u001b[0minputSize\u001b[0m\u001b[0;34m,\u001b[0m \u001b[0mhiddenLayerSize\u001b[0m\u001b[0;34m,\u001b[0m \u001b[0moutputSize\u001b[0m\u001b[0;34m)\u001b[0m\u001b[0;34m\u001b[0m\u001b[0;34m\u001b[0m\u001b[0m\n\u001b[0;32m----> 2\u001b[0;31m \u001b[0mparameters_1\u001b[0m\u001b[0;34m=\u001b[0m \u001b[0mfit\u001b[0m\u001b[0;34m(\u001b[0m\u001b[0mX_train\u001b[0m\u001b[0;34m,\u001b[0m \u001b[0my_train\u001b[0m\u001b[0;34m,\u001b[0m \u001b[0;36m10000\u001b[0m\u001b[0;34m,\u001b[0m \u001b[0;36m0.1\u001b[0m\u001b[0;34m,\u001b[0m \u001b[0mparameters_1\u001b[0m\u001b[0;34m)\u001b[0m\u001b[0;34m\u001b[0m\u001b[0;34m\u001b[0m\u001b[0m\n\u001b[0m",
            "\u001b[0;31mNameError\u001b[0m: name 'fit' is not defined"
          ]
        }
      ],
      "source": [
        "parameters_1= InitializeParametersHe(inputSize, hiddenLayerSize, outputSize)\n",
        "parameters_1= fit(X_train, y_train, 10000, 0.1, parameters_1)"
      ]
    },
    {
      "cell_type": "code",
      "execution_count": 13,
      "id": "b7a9b240",
      "metadata": {
        "colab": {
          "base_uri": "https://localhost:8080/",
          "height": 235
        },
        "id": "b7a9b240",
        "outputId": "45544df2-e201-48ea-d287-0afb7543ace0"
      },
      "outputs": [
        {
          "output_type": "error",
          "ename": "TypeError",
          "evalue": "ignored",
          "traceback": [
            "\u001b[0;31m---------------------------------------------------------------------------\u001b[0m",
            "\u001b[0;31mTypeError\u001b[0m                                 Traceback (most recent call last)",
            "\u001b[0;32m<ipython-input-13-57326cfbeb97>\u001b[0m in \u001b[0;36m<module>\u001b[0;34m()\u001b[0m\n\u001b[1;32m      1\u001b[0m \u001b[0;31m# Evaluate the model that was initalized with He initialization\u001b[0m\u001b[0;34m\u001b[0m\u001b[0;34m\u001b[0m\u001b[0;34m\u001b[0m\u001b[0m\n\u001b[1;32m      2\u001b[0m \u001b[0;32mfrom\u001b[0m \u001b[0msklearn\u001b[0m\u001b[0;34m.\u001b[0m\u001b[0mmetrics\u001b[0m \u001b[0;32mimport\u001b[0m \u001b[0maccuracy_score\u001b[0m\u001b[0;34m\u001b[0m\u001b[0;34m\u001b[0m\u001b[0m\n\u001b[0;32m----> 3\u001b[0;31m \u001b[0m_\u001b[0m\u001b[0;34m,\u001b[0m \u001b[0m_\u001b[0m\u001b[0;34m,\u001b[0m \u001b[0mA2\u001b[0m\u001b[0;34m=\u001b[0m \u001b[0mforwardPass\u001b[0m\u001b[0;34m(\u001b[0m\u001b[0mX_test\u001b[0m\u001b[0;34m,\u001b[0m \u001b[0my_test\u001b[0m\u001b[0;34m,\u001b[0m \u001b[0mparameters_1\u001b[0m\u001b[0;34m)\u001b[0m\u001b[0;34m\u001b[0m\u001b[0;34m\u001b[0m\u001b[0m\n\u001b[0m\u001b[1;32m      4\u001b[0m \u001b[0my_test_classes\u001b[0m\u001b[0;34m=\u001b[0m \u001b[0my_test\u001b[0m\u001b[0;34m\u001b[0m\u001b[0;34m\u001b[0m\u001b[0m\n\u001b[1;32m      5\u001b[0m \u001b[0my_pred_classes\u001b[0m\u001b[0;34m=\u001b[0m \u001b[0;34m[\u001b[0m\u001b[0;36m1\u001b[0m \u001b[0;32mif\u001b[0m \u001b[0ma\u001b[0m\u001b[0;34m>\u001b[0m\u001b[0;36m0.5\u001b[0m \u001b[0;32melse\u001b[0m \u001b[0;36m0\u001b[0m \u001b[0;32mfor\u001b[0m \u001b[0ma\u001b[0m \u001b[0;32min\u001b[0m \u001b[0mA2\u001b[0m\u001b[0;34m]\u001b[0m\u001b[0;34m\u001b[0m\u001b[0;34m\u001b[0m\u001b[0m\n",
            "\u001b[0;31mTypeError\u001b[0m: forwardPass() takes 2 positional arguments but 3 were given"
          ]
        }
      ],
      "source": [
        "# Evaluate the model that was initalized with He initialization \n",
        "from sklearn.metrics import accuracy_score\n",
        "_, _, A2= forwardPass(X_test, y_test, parameters_1)\n",
        "y_test_classes= y_test\n",
        "y_pred_classes= [1 if a>0.5 else 0 for a in A2]\n",
        "print(\"Accuracy =\", accuracy_score(y_test_classes, y_pred_classes))"
      ]
    },
    {
      "cell_type": "markdown",
      "id": "829c625b",
      "metadata": {
        "id": "829c625b"
      },
      "source": [
        "Now we will initialize its weights with some random values using Random Initialization"
      ]
    },
    {
      "cell_type": "code",
      "execution_count": null,
      "id": "24935ede",
      "metadata": {
        "id": "24935ede",
        "outputId": "811bbcdd-37f1-4131-974c-afb003bc50ce"
      },
      "outputs": [
        {
          "ename": "AttributeError",
          "evalue": "module 'numpy' has no attribute 'randomn'",
          "output_type": "error",
          "traceback": [
            "\u001b[1;31m---------------------------------------------------------------------------\u001b[0m",
            "\u001b[1;31mAttributeError\u001b[0m                            Traceback (most recent call last)",
            "\u001b[1;32m~\\AppData\\Local\\Temp/ipykernel_7964/2690359300.py\u001b[0m in \u001b[0;36m<module>\u001b[1;34m\u001b[0m\n\u001b[1;32m----> 1\u001b[1;33m \u001b[0mparameters_1\u001b[0m\u001b[1;33m=\u001b[0m \u001b[0mInitializeParametersRandom\u001b[0m\u001b[1;33m(\u001b[0m\u001b[0minputSize\u001b[0m\u001b[1;33m,\u001b[0m \u001b[0mhiddenLayerSize\u001b[0m\u001b[1;33m,\u001b[0m \u001b[0moutputSize\u001b[0m\u001b[1;33m)\u001b[0m\u001b[1;33m\u001b[0m\u001b[1;33m\u001b[0m\u001b[0m\n\u001b[0m\u001b[0;32m      2\u001b[0m \u001b[0mparameters_1\u001b[0m\u001b[1;33m=\u001b[0m \u001b[0mfit\u001b[0m\u001b[1;33m(\u001b[0m\u001b[0mX_train\u001b[0m\u001b[1;33m,\u001b[0m \u001b[0my_train\u001b[0m\u001b[1;33m,\u001b[0m \u001b[1;36m10000\u001b[0m\u001b[1;33m,\u001b[0m \u001b[1;36m0.1\u001b[0m\u001b[1;33m,\u001b[0m \u001b[0mparameters_1\u001b[0m\u001b[1;33m)\u001b[0m\u001b[1;33m\u001b[0m\u001b[1;33m\u001b[0m\u001b[0m\n\u001b[0;32m      3\u001b[0m \u001b[1;31m# Evaluate the model that was initalized with He initialization\u001b[0m\u001b[1;33m\u001b[0m\u001b[1;33m\u001b[0m\u001b[0m\n\u001b[0;32m      4\u001b[0m \u001b[1;32mfrom\u001b[0m \u001b[0msklearn\u001b[0m\u001b[1;33m.\u001b[0m\u001b[0mmetrics\u001b[0m \u001b[1;32mimport\u001b[0m \u001b[0maccuracy_score\u001b[0m\u001b[1;33m\u001b[0m\u001b[1;33m\u001b[0m\u001b[0m\n\u001b[0;32m      5\u001b[0m \u001b[0m_\u001b[0m\u001b[1;33m,\u001b[0m \u001b[0m_\u001b[0m\u001b[1;33m,\u001b[0m \u001b[0mA2\u001b[0m\u001b[1;33m=\u001b[0m \u001b[0mforwardPass\u001b[0m\u001b[1;33m(\u001b[0m\u001b[0mX_test\u001b[0m\u001b[1;33m,\u001b[0m \u001b[0my_test\u001b[0m\u001b[1;33m,\u001b[0m \u001b[0mparameters_1\u001b[0m\u001b[1;33m)\u001b[0m\u001b[1;33m\u001b[0m\u001b[1;33m\u001b[0m\u001b[0m\n",
            "\u001b[1;32m~\\AppData\\Local\\Temp/ipykernel_7964/977196614.py\u001b[0m in \u001b[0;36mInitializeParametersRandom\u001b[1;34m(inputSize, hiddenLayerSize, outputSize)\u001b[0m\n\u001b[0;32m      2\u001b[0m \u001b[1;32mdef\u001b[0m \u001b[0mInitializeParametersRandom\u001b[0m\u001b[1;33m(\u001b[0m\u001b[0minputSize\u001b[0m\u001b[1;33m,\u001b[0m \u001b[0mhiddenLayerSize\u001b[0m\u001b[1;33m,\u001b[0m \u001b[0moutputSize\u001b[0m\u001b[1;33m)\u001b[0m\u001b[1;33m:\u001b[0m\u001b[1;33m\u001b[0m\u001b[1;33m\u001b[0m\u001b[0m\n\u001b[0;32m      3\u001b[0m     \u001b[0mw1\u001b[0m\u001b[1;33m=\u001b[0m \u001b[0mnp\u001b[0m\u001b[1;33m.\u001b[0m\u001b[0mrandom\u001b[0m\u001b[1;33m.\u001b[0m\u001b[0mrandn\u001b[0m\u001b[1;33m(\u001b[0m\u001b[0mhiddenLayerSize\u001b[0m\u001b[1;33m,\u001b[0m \u001b[0minputSize\u001b[0m\u001b[1;33m)\u001b[0m\u001b[1;33m*\u001b[0m \u001b[1;36m1e-6\u001b[0m\u001b[1;33m\u001b[0m\u001b[1;33m\u001b[0m\u001b[0m\n\u001b[1;32m----> 4\u001b[1;33m     \u001b[0mw2\u001b[0m\u001b[1;33m=\u001b[0m\u001b[0mnp\u001b[0m\u001b[1;33m.\u001b[0m\u001b[0mrandomn\u001b[0m\u001b[1;33m.\u001b[0m\u001b[0mrandn\u001b[0m\u001b[1;33m(\u001b[0m\u001b[0moutputSize\u001b[0m\u001b[1;33m,\u001b[0m \u001b[0mhiddenLayerSize\u001b[0m\u001b[1;33m)\u001b[0m  \u001b[1;33m*\u001b[0m\u001b[1;36m1e-6\u001b[0m\u001b[1;33m\u001b[0m\u001b[1;33m\u001b[0m\u001b[0m\n\u001b[0m\u001b[0;32m      5\u001b[0m     \u001b[0mb1\u001b[0m\u001b[1;33m=\u001b[0m \u001b[0mnp\u001b[0m\u001b[1;33m.\u001b[0m\u001b[0mzeros\u001b[0m\u001b[1;33m(\u001b[0m\u001b[1;33m(\u001b[0m\u001b[0mhiddenLayerSize\u001b[0m\u001b[1;33m,\u001b[0m \u001b[1;36m1\u001b[0m\u001b[1;33m)\u001b[0m\u001b[1;33m)\u001b[0m\u001b[1;33m\u001b[0m\u001b[1;33m\u001b[0m\u001b[0m\n\u001b[0;32m      6\u001b[0m     \u001b[0mb2\u001b[0m\u001b[1;33m=\u001b[0m \u001b[0mnp\u001b[0m\u001b[1;33m.\u001b[0m\u001b[0mzeros\u001b[0m\u001b[1;33m(\u001b[0m\u001b[1;33m(\u001b[0m\u001b[0moutputSize\u001b[0m\u001b[1;33m,\u001b[0m\u001b[1;36m1\u001b[0m\u001b[1;33m)\u001b[0m \u001b[1;33m)\u001b[0m\u001b[1;33m\u001b[0m\u001b[1;33m\u001b[0m\u001b[0m\n",
            "\u001b[1;32m~\\anaconda3\\lib\\site-packages\\numpy\\__init__.py\u001b[0m in \u001b[0;36m__getattr__\u001b[1;34m(attr)\u001b[0m\n\u001b[0;32m    301\u001b[0m                 \u001b[1;32mreturn\u001b[0m \u001b[0mTester\u001b[0m\u001b[1;33m\u001b[0m\u001b[1;33m\u001b[0m\u001b[0m\n\u001b[0;32m    302\u001b[0m \u001b[1;33m\u001b[0m\u001b[0m\n\u001b[1;32m--> 303\u001b[1;33m             raise AttributeError(\"module {!r} has no attribute \"\n\u001b[0m\u001b[0;32m    304\u001b[0m                                  \"{!r}\".format(__name__, attr))\n\u001b[0;32m    305\u001b[0m \u001b[1;33m\u001b[0m\u001b[0m\n",
            "\u001b[1;31mAttributeError\u001b[0m: module 'numpy' has no attribute 'randomn'"
          ]
        }
      ],
      "source": [
        "parameters_1= InitializeParametersRandom(inputSize, hiddenLayerSize, outputSize)\n",
        "parameters_1= fit(X_train, y_train, 10000, 0.1, parameters_1)\n",
        "# Evaluate the model that was initalized with He initialization \n",
        "_, _, A2= forwardPass(X_test, y_test, parameters_1)\n",
        "y_test_classes= y_test\n",
        "y_pred_classes= [1 if a>0.5 else 0 for a in A2]\n",
        "print(\"Accuracy =\", accuracy_score(y_test_classes, y_pred_classes))"
      ]
    },
    {
      "cell_type": "markdown",
      "id": "d0ec2509",
      "metadata": {
        "id": "d0ec2509"
      },
      "source": [
        "The model couldn't learn because we haven't initialize our weights properly, this shows the importance of initialization methods in neural networks "
      ]
    },
    {
      "cell_type": "code",
      "execution_count": null,
      "id": "9f7d9313",
      "metadata": {
        "id": "9f7d9313"
      },
      "outputs": [],
      "source": [
        ""
      ]
    }
  ],
  "metadata": {
    "kernelspec": {
      "display_name": "Python 3 (ipykernel)",
      "language": "python",
      "name": "python3"
    },
    "language_info": {
      "codemirror_mode": {
        "name": "ipython",
        "version": 3
      },
      "file_extension": ".py",
      "mimetype": "text/x-python",
      "name": "python",
      "nbconvert_exporter": "python",
      "pygments_lexer": "ipython3",
      "version": "3.9.7"
    },
    "colab": {
      "name": "Neural Networks in depth.ipynb",
      "provenance": []
    }
  },
  "nbformat": 4,
  "nbformat_minor": 5
}