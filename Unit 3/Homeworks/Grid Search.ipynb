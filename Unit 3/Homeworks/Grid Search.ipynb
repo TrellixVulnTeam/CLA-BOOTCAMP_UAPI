{
 "cells": [
  {
   "cell_type": "code",
   "execution_count": 16,
   "id": "db9c8527",
   "metadata": {},
   "outputs": [],
   "source": [
    "# importing the necessary packages \n",
    "from sklearn.datasets import load_breast_cancer \n",
    "from sklearn.svm import SVC\n",
    "from sklearn.model_selection import train_test_split\n",
    "from sklearn.model_selection import GridSearchCV\n",
    "from sklearn.metrics import classification_report"
   ]
  },
  {
   "cell_type": "code",
   "execution_count": 17,
   "id": "3bb4bea5",
   "metadata": {},
   "outputs": [],
   "source": [
    "#loading the dataset and split it into train, test\n",
    "data = load_breast_cancer()\n",
    "X, Y = data.data, data.target\n",
    "X_train, X_test, Y_train, Y_test = train_test_split(X, Y, test_size= 0.2, random_state=42)\n"
   ]
  },
  {
   "cell_type": "code",
   "execution_count": 18,
   "id": "737dcd38",
   "metadata": {},
   "outputs": [],
   "source": [
    "# set the parametres with cross validation\n",
    "tuned_parameters = [{'kernel': ['rbf'], 'gamma': [1e-3, 1e-4],\n",
    "                     'C': [1, 10, 100, 1000]}]"
   ]
  },
  {
   "cell_type": "code",
   "execution_count": 19,
   "id": "e97268f9",
   "metadata": {},
   "outputs": [],
   "source": [
    "scores = ['precision', 'recall']\n"
   ]
  },
  {
   "cell_type": "code",
   "execution_count": 22,
   "id": "eb8d74d4",
   "metadata": {},
   "outputs": [],
   "source": [
    "def grid_search(X_train, Y_train, X_test, Y_test, tunes_params, metric=\"precision\"):\n",
    "    print(\"#Tuning hyper_parameters for%s\"% metric)\n",
    "    clf= GridSearchCV(SVC(),tuned_parameters, scoring='%s_macro' %metric)\n",
    "    clf.fit(X_train, Y_train)\n",
    "    print(\"Best Params Found\")\n",
    "    print(clf.best_params_)\n",
    "    print(\"Grid Scores on development set:\")\n",
    "    print(clf.best_estimator_)\n",
    "    print()\n",
    "    means=clf.cv_results_['mean_test_score']\n",
    "    stds=clf.cv_results_['std_test_score']\n",
    "    for mean, std, params in zip(means, stds, clf.cv_results_['params']):\n",
    "        print(\"%0.3f(+/-%0.03f)for %r\"\n",
    "              %(mean, std*2, params))\n",
    "    print(\"classification report\")\n",
    "    Y_true, Y_pred = Y_test, clf.predict(X_test)\n",
    "    print(classification_report(Y_true, Y_pred))\n",
    "    \n",
    "    "
   ]
  },
  {
   "cell_type": "code",
   "execution_count": 23,
   "id": "7a9b566a",
   "metadata": {},
   "outputs": [
    {
     "name": "stdout",
     "output_type": "stream",
     "text": [
      "#Tuning hyper_parameters forprecision\n",
      "Best Params Found\n",
      "{'C': 10, 'gamma': 0.0001, 'kernel': 'rbf'}\n",
      "Grid Scores on development set:\n",
      "SVC(C=10, gamma=0.0001)\n",
      "\n",
      "0.902(+/-0.045)for {'C': 1, 'gamma': 0.001, 'kernel': 'rbf'}\n",
      "0.933(+/-0.046)for {'C': 1, 'gamma': 0.0001, 'kernel': 'rbf'}\n",
      "0.897(+/-0.037)for {'C': 10, 'gamma': 0.001, 'kernel': 'rbf'}\n",
      "0.954(+/-0.041)for {'C': 10, 'gamma': 0.0001, 'kernel': 'rbf'}\n",
      "0.897(+/-0.037)for {'C': 100, 'gamma': 0.001, 'kernel': 'rbf'}\n",
      "0.942(+/-0.031)for {'C': 100, 'gamma': 0.0001, 'kernel': 'rbf'}\n",
      "0.897(+/-0.037)for {'C': 1000, 'gamma': 0.001, 'kernel': 'rbf'}\n",
      "0.921(+/-0.055)for {'C': 1000, 'gamma': 0.0001, 'kernel': 'rbf'}\n",
      "classification report\n",
      "              precision    recall  f1-score   support\n",
      "\n",
      "           0       0.95      0.91      0.93        43\n",
      "           1       0.95      0.97      0.96        71\n",
      "\n",
      "    accuracy                           0.95       114\n",
      "   macro avg       0.95      0.94      0.94       114\n",
      "weighted avg       0.95      0.95      0.95       114\n",
      "\n"
     ]
    }
   ],
   "source": [
    "#Grid Search using only the precision\n",
    "import warnings\n",
    "warnings.filterwarnings(\"ignore\")\n",
    "grid_search(X_train, Y_train, X_test, Y_test, tuned_parameters, scores[0])"
   ]
  },
  {
   "cell_type": "code",
   "execution_count": 24,
   "id": "943b323a",
   "metadata": {},
   "outputs": [
    {
     "name": "stdout",
     "output_type": "stream",
     "text": [
      "#Tuning hyper_parameters forrecall\n",
      "Best Params Found\n",
      "{'C': 10, 'gamma': 0.0001, 'kernel': 'rbf'}\n",
      "Grid Scores on development set:\n",
      "SVC(C=10, gamma=0.0001)\n",
      "\n",
      "0.910(+/-0.060)for {'C': 1, 'gamma': 0.001, 'kernel': 'rbf'}\n",
      "0.922(+/-0.070)for {'C': 1, 'gamma': 0.0001, 'kernel': 'rbf'}\n",
      "0.904(+/-0.052)for {'C': 10, 'gamma': 0.001, 'kernel': 'rbf'}\n",
      "0.938(+/-0.071)for {'C': 10, 'gamma': 0.0001, 'kernel': 'rbf'}\n",
      "0.904(+/-0.052)for {'C': 100, 'gamma': 0.001, 'kernel': 'rbf'}\n",
      "0.931(+/-0.041)for {'C': 100, 'gamma': 0.0001, 'kernel': 'rbf'}\n",
      "0.904(+/-0.052)for {'C': 1000, 'gamma': 0.001, 'kernel': 'rbf'}\n",
      "0.909(+/-0.067)for {'C': 1000, 'gamma': 0.0001, 'kernel': 'rbf'}\n",
      "classification report\n",
      "              precision    recall  f1-score   support\n",
      "\n",
      "           0       0.95      0.91      0.93        43\n",
      "           1       0.95      0.97      0.96        71\n",
      "\n",
      "    accuracy                           0.95       114\n",
      "   macro avg       0.95      0.94      0.94       114\n",
      "weighted avg       0.95      0.95      0.95       114\n",
      "\n"
     ]
    }
   ],
   "source": [
    "grid_search(X_train, Y_train, X_test, Y_test, tuned_parameters, scores[1])"
   ]
  },
  {
   "cell_type": "code",
   "execution_count": null,
   "id": "3dc52212",
   "metadata": {},
   "outputs": [],
   "source": []
  }
 ],
 "metadata": {
  "kernelspec": {
   "display_name": "Python 3 (ipykernel)",
   "language": "python",
   "name": "python3"
  },
  "language_info": {
   "codemirror_mode": {
    "name": "ipython",
    "version": 3
   },
   "file_extension": ".py",
   "mimetype": "text/x-python",
   "name": "python",
   "nbconvert_exporter": "python",
   "pygments_lexer": "ipython3",
   "version": "3.9.7"
  }
 },
 "nbformat": 4,
 "nbformat_minor": 5
}
