{
 "cells": [
  {
   "cell_type": "code",
   "execution_count": 1,
   "id": "61362b62",
   "metadata": {},
   "outputs": [],
   "source": [
    "from sklearn.model_selection import train_test_split\n",
    "from sklearn.datasets import load_iris "
   ]
  },
  {
   "cell_type": "code",
   "execution_count": 5,
   "id": "70eea37d",
   "metadata": {},
   "outputs": [],
   "source": [
    "iris =load_iris()\n",
    "x = iris.data\n",
    "y = iris.target\n"
   ]
  },
  {
   "cell_type": "code",
   "execution_count": 6,
   "id": "87ad3537",
   "metadata": {},
   "outputs": [],
   "source": [
    "x_train,x_t,y_train,y_t=train_test_split(x,y,test_size=0.2,random_state=123)"
   ]
  },
  {
   "cell_type": "code",
   "execution_count": 7,
   "id": "cefce528",
   "metadata": {},
   "outputs": [],
   "source": [
    "x_test,x_valid,y_test,y_valid=train_test_split(x,y,test_size=0.5,random_state=123)"
   ]
  },
  {
   "cell_type": "code",
   "execution_count": 8,
   "id": "c6cdf223",
   "metadata": {},
   "outputs": [
    {
     "name": "stdout",
     "output_type": "stream",
     "text": [
      "number of training exemples 120\n",
      "number of  validation exemples 75\n",
      "number of testing exemples 75\n"
     ]
    }
   ],
   "source": [
    "print(\"number of training exemples {}\".format(len(x_train)))\n",
    "print(\"number of  validation exemples {}\".format(len(x_valid)))\n",
    "print(\"number of testing exemples {}\".format(len(x_test)))"
   ]
  },
  {
   "cell_type": "code",
   "execution_count": null,
   "id": "64f9162c",
   "metadata": {},
   "outputs": [],
   "source": []
  }
 ],
 "metadata": {
  "kernelspec": {
   "display_name": "Python 3 (ipykernel)",
   "language": "python",
   "name": "python3"
  },
  "language_info": {
   "codemirror_mode": {
    "name": "ipython",
    "version": 3
   },
   "file_extension": ".py",
   "mimetype": "text/x-python",
   "name": "python",
   "nbconvert_exporter": "python",
   "pygments_lexer": "ipython3",
   "version": "3.9.7"
  }
 },
 "nbformat": 4,
 "nbformat_minor": 5
}
