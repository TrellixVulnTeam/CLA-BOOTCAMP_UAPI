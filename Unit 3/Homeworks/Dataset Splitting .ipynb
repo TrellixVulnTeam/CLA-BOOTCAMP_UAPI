{
 "cells": [
  {
   "cell_type": "code",
   "execution_count": 1,
   "id": "381c5088",
   "metadata": {},
   "outputs": [],
   "source": [
    "\n",
    "from sklearn.model_selection import train_test_split\n",
    "from sklearn.datasets import load_iris "
   ]
  },
  {
   "cell_type": "code",
   "execution_count": 2,
   "id": "66910910",
   "metadata": {},
   "outputs": [],
   "source": [
    "iris = load_iris()\n",
    "x = iris.data\n",
    "y = iris.target"
   ]
  },
  {
   "cell_type": "code",
   "execution_count": 3,
   "id": "3415ff1b",
   "metadata": {},
   "outputs": [],
   "source": [
    "x_train,x_t,y_train,y_t=train_test_split(x,y,test_size=0.2,random_state=123)"
   ]
  },
  {
   "cell_type": "code",
   "execution_count": 4,
   "id": "8109b3ac",
   "metadata": {},
   "outputs": [],
   "source": [
    "x_test,x_valid,y_test,y_valid=train_test_split(x,y,test_size=0.5,random_state=123)"
   ]
  },
  {
   "cell_type": "code",
   "execution_count": 5,
   "id": "c0f5572c",
   "metadata": {},
   "outputs": [
    {
     "name": "stdout",
     "output_type": "stream",
     "text": [
      "number of training exemples 120\n",
      "number of  validation exemples 75\n",
      "number of testing exemples 75\n"
     ]
    }
   ],
   "source": [
    "print(\"number of training exemples {}\".format(len(x_train)))\n",
    "print(\"number of  validation exemples {}\".format(len(x_valid)))\n",
    "print(\"number of testing exemples {}\".format(len(x_test)))"
   ]
  },
  {
   "cell_type": "code",
   "execution_count": null,
   "id": "ff31f4bd",
   "metadata": {},
   "outputs": [],
   "source": []
  }
 ],
 "metadata": {
  "kernelspec": {
   "display_name": "Python 3 (ipykernel)",
   "language": "python",
   "name": "python3"
  },
  "language_info": {
   "codemirror_mode": {
    "name": "ipython",
    "version": 3
   },
   "file_extension": ".py",
   "mimetype": "text/x-python",
   "name": "python",
   "nbconvert_exporter": "python",
   "pygments_lexer": "ipython3",
   "version": "3.9.7"
  }
 },
 "nbformat": 4,
 "nbformat_minor": 5
}
