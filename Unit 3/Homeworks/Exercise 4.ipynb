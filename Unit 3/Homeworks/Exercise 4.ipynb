{
 "cells": [
  {
   "cell_type": "code",
   "execution_count": 1,
   "id": "97674717",
   "metadata": {},
   "outputs": [],
   "source": [
    "\n",
    "import pandas as pd\n",
    "import numpy as np\n",
    "df = pd.read_csv(\"clustering_data.csv\")"
   ]
  },
  {
   "cell_type": "code",
   "execution_count": 2,
   "id": "4d2f7c44",
   "metadata": {},
   "outputs": [
    {
     "data": {
      "text/html": [
       "<div>\n",
       "<style scoped>\n",
       "    .dataframe tbody tr th:only-of-type {\n",
       "        vertical-align: middle;\n",
       "    }\n",
       "\n",
       "    .dataframe tbody tr th {\n",
       "        vertical-align: top;\n",
       "    }\n",
       "\n",
       "    .dataframe thead th {\n",
       "        text-align: right;\n",
       "    }\n",
       "</style>\n",
       "<table border=\"1\" class=\"dataframe\">\n",
       "  <thead>\n",
       "    <tr style=\"text-align: right;\">\n",
       "      <th></th>\n",
       "      <th>-5.462513918787130329e+00</th>\n",
       "      <th>-8.113541922364099435e+00</th>\n",
       "    </tr>\n",
       "  </thead>\n",
       "  <tbody>\n",
       "    <tr>\n",
       "      <th>0</th>\n",
       "      <td>-1.730536</td>\n",
       "      <td>1.619807</td>\n",
       "    </tr>\n",
       "    <tr>\n",
       "      <th>1</th>\n",
       "      <td>-1.178714</td>\n",
       "      <td>4.515808</td>\n",
       "    </tr>\n",
       "    <tr>\n",
       "      <th>2</th>\n",
       "      <td>-6.460586</td>\n",
       "      <td>-3.068022</td>\n",
       "    </tr>\n",
       "    <tr>\n",
       "      <th>3</th>\n",
       "      <td>-1.539308</td>\n",
       "      <td>5.260561</td>\n",
       "    </tr>\n",
       "    <tr>\n",
       "      <th>4</th>\n",
       "      <td>-11.067681</td>\n",
       "      <td>-4.651872</td>\n",
       "    </tr>\n",
       "  </tbody>\n",
       "</table>\n",
       "</div>"
      ],
      "text/plain": [
       "   -5.462513918787130329e+00  -8.113541922364099435e+00\n",
       "0                  -1.730536                   1.619807\n",
       "1                  -1.178714                   4.515808\n",
       "2                  -6.460586                  -3.068022\n",
       "3                  -1.539308                   5.260561\n",
       "4                 -11.067681                  -4.651872"
      ]
     },
     "execution_count": 2,
     "metadata": {},
     "output_type": "execute_result"
    }
   ],
   "source": [
    "df.head()"
   ]
  },
  {
   "cell_type": "code",
   "execution_count": 3,
   "id": "c8151c34",
   "metadata": {},
   "outputs": [
    {
     "name": "stdout",
     "output_type": "stream",
     "text": [
      "<class 'pandas.core.frame.DataFrame'>\n",
      "RangeIndex: 9999 entries, 0 to 9998\n",
      "Data columns (total 2 columns):\n",
      " #   Column                     Non-Null Count  Dtype  \n",
      "---  ------                     --------------  -----  \n",
      " 0   -5.462513918787130329e+00  9999 non-null   float64\n",
      " 1   -8.113541922364099435e+00  9999 non-null   float64\n",
      "dtypes: float64(2)\n",
      "memory usage: 156.4 KB\n"
     ]
    }
   ],
   "source": [
    "df.info()"
   ]
  },
  {
   "cell_type": "markdown",
   "id": "0cf2ac25",
   "metadata": {},
   "source": [
    "# Execute the elbow method with k-means"
   ]
  },
  {
   "cell_type": "code",
   "execution_count": 5,
   "id": "6391a7eb",
   "metadata": {},
   "outputs": [],
   "source": [
    "# importing the necessary packages \n",
    "import matplotlib.pyplot as plt \n",
    "from sklearn.cluster import KMeans \n"
   ]
  },
  {
   "cell_type": "code",
   "execution_count": 6,
   "id": "3c52238b",
   "metadata": {},
   "outputs": [
    {
     "data": {
      "text/plain": [
       "Text(0.5, 1.0, 'Elbow curve')"
      ]
     },
     "execution_count": 6,
     "metadata": {},
     "output_type": "execute_result"
    },
    {
     "data": {
      "image/png": "[encoded data removed]",
      "text/plain": [
       "<Figure size 1080x360 with 1 Axes>"
      ]
     },
     "metadata": {
      "needs_background": "light"
     },
     "output_type": "display_data"
    }
   ],
   "source": [
    "x=df.values[:,0:] #is a slice of that array, that returns all rows and every column starting from the first column. \n",
    "\n",
    "distorsions =[]\n",
    "for k in range (2, 20):\n",
    "    kmeans= KMeans(n_clusters=k)\n",
    "    kmeans.fit(x)\n",
    "    distorsions.append(kmeans.inertia_)\n",
    "fig= plt.figure(figsize=(15,5))\n",
    "plt.plot(range(2, 20), distorsions)\n",
    "plt.grid(True)\n",
    "plt.title('Elbow curve')"
   ]
  },
  {
   "cell_type": "code",
   "execution_count": null,
   "id": "741bccc8",
   "metadata": {},
   "outputs": [],
   "source": [
    "y_pred = KMeans(n_clusters=6, init='random',random_state=random_state ).fit_predict(x)\n",
    "plt.scatter(x[:, 0], x[:, 1], c=y_pred)"
   ]
  }
 ],
 "metadata": {
  "kernelspec": {
   "display_name": "Python 3 (ipykernel)",
   "language": "python",
   "name": "python3"
  },
  "language_info": {
   "codemirror_mode": {
    "name": "ipython",
    "version": 3
   },
   "file_extension": ".py",
   "mimetype": "text/x-python",
   "name": "python",
   "nbconvert_exporter": "python",
   "pygments_lexer": "ipython3",
   "version": "3.9.7"
  }
 },
 "nbformat": 4,
 "nbformat_minor": 5
}
