{
 "cells": [
  {
   "cell_type": "code",
   "execution_count": 6,
   "metadata": {},
   "outputs": [
    {
     "name": "stdout",
     "output_type": "stream",
     "text": [
      "The passed string is palindrome\n",
      "None\n"
     ]
    }
   ],
   "source": [
    "# a Python function that checks whether a passed string is palindrome or not. \n",
    "def palindrome():\n",
    "    bool= 0\n",
    "    string=input('Enter a string:')\n",
    "    reverse=(string[::-1])\n",
    "    if reverse== string:\n",
    "        print('The passed string is palindrome')\n",
    "    else:\n",
    "        print('The passed string is not palindrome')\n",
    "        \n",
    "print(palindrome())\n"
   ]
  },
  {
   "cell_type": "code",
   "execution_count": 16,
   "metadata": {},
   "outputs": [
    {
     "name": "stdout",
     "output_type": "stream",
     "text": [
      "13 is a prime number\n"
     ]
    }
   ],
   "source": [
    "#a Python function that takes a number as a parameter and checks if the number is prime or not.\n",
    "def prime_number(num):\n",
    "    if num > 1:\n",
    "        for i in range(2,num):\n",
    "            if (num % i) == 0:\n",
    "                print(num,\"is not a prime number\")\n",
    "                break\n",
    "        else:\n",
    "            print(num,\"is a prime number\")\n",
    "    # input number is less than or equal to 1\n",
    "    else:\n",
    "        print(num,\"is not a prime number\")\n",
    "num=int(input('Enter a number:'))\n",
    "prime_number(num)"
   ]
  },
  {
   "cell_type": "code",
   "execution_count": 20,
   "metadata": {},
   "outputs": [
    {
     "name": "stdout",
     "output_type": "stream",
     "text": [
      " 12 is in the range\n"
     ]
    }
   ],
   "source": [
    "#a Python function to check whether a number is in a given range.\n",
    "def check_range(n,a,b):\n",
    "    if n in range(a,b):\n",
    "        print( \" %s is in the range\"%str(n))\n",
    "    else :\n",
    "        print(\"The number is outside the given range.\")\n",
    "# test the function \n",
    "m=int(input('Enter the number you want to check'))\n",
    "c=int(input('Enter the number you want to check'))\n",
    "d=int(input('Enter the number you want to check'))\n",
    "check_range(m,c,d)"
   ]
  },
  {
   "cell_type": "code",
   "execution_count": 65,
   "metadata": {},
   "outputs": [
    {
     "name": "stdout",
     "output_type": "stream",
     "text": [
      "1\n"
     ]
    },
    {
     "data": {
      "text/plain": [
       "362880"
      ]
     },
     "execution_count": 65,
     "metadata": {},
     "output_type": "execute_result"
    }
   ],
   "source": [
    "\n",
    "#a Python function to calculate the factorial of a number (a non-negative integer).\n",
    "#  The function accepts the number as an argument.\n",
    "def factorial(n): \n",
    "    res = 1\n",
    "    for i in range(1,n+1):\n",
    "        res *= i \n",
    "    return res\n",
    "print(factorial(-4))\n",
    "factorial(9)"
   ]
  },
  {
   "cell_type": "code",
   "execution_count": 64,
   "metadata": {},
   "outputs": [
    {
     "data": {
      "text/plain": [
       "120"
      ]
     },
     "execution_count": 64,
     "metadata": {},
     "output_type": "execute_result"
    }
   ],
   "source": [
    "# recursive solution\n",
    "def factorial_rec(n):\n",
    "    if not ((n >= 0) and (n % 1 == 0)):\n",
    "        return(\"Number can't be negative or floating point!\")\n",
    "    return 1 if n == 0 else n * factorial(n - 1)\n",
    "factorial_rec(5)"
   ]
  },
  {
   "cell_type": "code",
   "execution_count": 66,
   "metadata": {},
   "outputs": [
    {
     "data": {
      "text/plain": [
       "'ailil'"
      ]
     },
     "execution_count": 66,
     "metadata": {},
     "output_type": "execute_result"
    }
   ],
   "source": [
    "#a Python program to reverse a string.\n",
    "def reverse_string():\n",
    "    string=input('Enter a string:')\n",
    "    reverse=(string[::-1])\n",
    "    return reverse\n",
    "reverse_string()"
   ]
  },
  {
   "cell_type": "code",
   "execution_count": 68,
   "metadata": {},
   "outputs": [
    {
     "name": "stdout",
     "output_type": "stream",
     "text": [
      "24\n"
     ]
    }
   ],
   "source": [
    "#a Python function to sum all the numbers in a list.\n",
    "def sum_numbers(List):\n",
    "    res = 0\n",
    "    for x in List:\n",
    "        res += x\n",
    "    return res\n",
    "print(sum_numbers((9, 6, 0, 2, 7)))"
   ]
  },
  {
   "cell_type": "code",
   "execution_count": 4,
   "metadata": {},
   "outputs": [
    {
     "name": "stdout",
     "output_type": "stream",
     "text": [
      "the max of three numbers is 9\n"
     ]
    }
   ],
   "source": [
    "#a Python function to find the Max of three numbers.\n",
    "def max_two( x, y ):\n",
    "    if x > y:\n",
    "        return x\n",
    "    return y\n",
    "def max_three( x, y, z ):\n",
    "    return max_two( x, max_two( y, z ) )\n",
    "print('the max of three numbers is', max_three(9, 0, -5))\n"
   ]
  },
  {
   "cell_type": "code",
   "execution_count": null,
   "metadata": {},
   "outputs": [],
   "source": []
  }
 ],
 "metadata": {
  "interpreter": {
   "hash": "a12d694c3ccac42055183a0ad11e659c6a2db5c6555ad2c8919d5814fd4e404f"
  },
  "kernelspec": {
   "display_name": "Python 3.9.5 64-bit",
   "name": "python3"
  },
  "language_info": {
   "codemirror_mode": {
    "name": "ipython",
    "version": 3
   },
   "file_extension": ".py",
   "mimetype": "text/x-python",
   "name": "python",
   "nbconvert_exporter": "python",
   "pygments_lexer": "ipython3",
   "version": "3.9.5"
  },
  "orig_nbformat": 4
 },
 "nbformat": 4,
 "nbformat_minor": 2
}
