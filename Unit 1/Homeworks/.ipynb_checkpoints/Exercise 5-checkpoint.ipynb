{
 "cells": [
  {
   "cell_type": "code",
   "execution_count": 18,
   "id": "460601a6",
   "metadata": {},
   "outputs": [
    {
     "name": "stdout",
     "output_type": "stream",
     "text": [
      "1200\n"
     ]
    }
   ],
   "source": [
    "#*********** OOP Homework ***********\n",
    "#a Python class named Rectangle constructed by a length and width and a method which will compute the area of a rectangle.\n",
    "class Rectangle():\n",
    "    def __init__(self, l, w):\n",
    "        self.length = l\n",
    "        self.width  = w\n",
    "\n",
    "    def rectangle_area(self):\n",
    "        return self.length*self.width\n",
    "newRectangle = Rectangle(30, 40)\n",
    "print(newRectangle.rectangle_area())\n",
    "    "
   ]
  },
  {
   "cell_type": "code",
   "execution_count": 19,
   "id": "1fd83ab2",
   "metadata": {},
   "outputs": [],
   "source": [
    "#Create a Vehicle class with max_speed and mileage instance attributes\n",
    "\n",
    "\n",
    "class Vehicle():\n",
    "    def __init__(self, max_speed, mileage):\n",
    "        self.max_speed = max_speed\n",
    "        self.mileage = mileage"
   ]
  },
  {
   "cell_type": "code",
   "execution_count": 20,
   "id": "0a280922",
   "metadata": {},
   "outputs": [],
   "source": [
    "#a Vehicle class without any variables and methods.\n",
    "class VehicleWithoutArgu:\n",
    "    pass\n"
   ]
  },
  {
   "cell_type": "code",
   "execution_count": 21,
   "id": "7f6b26a4",
   "metadata": {},
   "outputs": [],
   "source": [
    "#a child class Bus that will inherit all of the variables and methods of the Vehicle class\n",
    "class Bus(Vehicle):\n",
    "    pass\n"
   ]
  },
  {
   "cell_type": "code",
   "execution_count": 22,
   "id": "f4d45398",
   "metadata": {},
   "outputs": [
    {
     "name": "stdout",
     "output_type": "stream",
     "text": [
      "Speed: 200 Mileage: 16\n"
     ]
    }
   ],
   "source": [
    "bus = Bus(200, 16)\n",
    "print(\"Speed:\",bus.max_speed, \"Mileage:\",bus.mileage)"
   ]
  }
 ],
 "metadata": {
  "kernelspec": {
   "display_name": "Python 3 (ipykernel)",
   "language": "python",
   "name": "python3"
  },
  "language_info": {
   "codemirror_mode": {
    "name": "ipython",
    "version": 3
   },
   "file_extension": ".py",
   "mimetype": "text/x-python",
   "name": "python",
   "nbconvert_exporter": "python",
   "pygments_lexer": "ipython3",
   "version": "3.9.7"
  }
 },
 "nbformat": 4,
 "nbformat_minor": 5
}
