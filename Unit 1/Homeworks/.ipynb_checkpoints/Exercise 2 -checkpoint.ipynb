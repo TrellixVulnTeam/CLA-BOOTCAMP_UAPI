{
 "cells": [
  {
   "cell_type": "code",
   "execution_count": 41,
   "id": "468633b2",
   "metadata": {},
   "outputs": [],
   "source": [
    "file= open(\"student_names.txt\", \"r\")"
   ]
  },
  {
   "cell_type": "code",
   "execution_count": 42,
   "id": "755766f5",
   "metadata": {},
   "outputs": [
    {
     "name": "stdout",
     "output_type": "stream",
     "text": [
      "r\n"
     ]
    }
   ],
   "source": [
    "print(file.mode) "
   ]
  },
  {
   "cell_type": "code",
   "execution_count": 43,
   "id": "57c89ae3",
   "metadata": {},
   "outputs": [],
   "source": [
    "names=file.read()"
   ]
  },
  {
   "cell_type": "code",
   "execution_count": 44,
   "id": "ecfa8e95",
   "metadata": {},
   "outputs": [
    {
     "name": "stdout",
     "output_type": "stream",
     "text": [
      "Mason Smith\n",
      "Olivia wWilliams \n",
      "Isabella Johns\n",
      "Steven Tyler\n",
      "Stevie Nicks\n",
      "Joe Cocker\n",
      "Patti LaBelle\n",
      "LÃ©onard Vinci\n",
      "Isaac Newton\n",
      "\n"
     ]
    }
   ],
   "source": [
    "print(names)"
   ]
  },
  {
   "cell_type": "code",
   "execution_count": 45,
   "id": "0f629acb",
   "metadata": {},
   "outputs": [
    {
     "name": "stdout",
     "output_type": "stream",
     "text": [
      "<class 'str'>\n"
     ]
    }
   ],
   "source": [
    "print(type(file.read()))"
   ]
  },
  {
   "cell_type": "code",
   "execution_count": 46,
   "id": "a8058f6f",
   "metadata": {},
   "outputs": [],
   "source": [
    "file= open(\"student_names.txt\", \"w\")"
   ]
  },
  {
   "cell_type": "code",
   "execution_count": 47,
   "id": "272fa44c",
   "metadata": {},
   "outputs": [],
   "source": [
    "names=  names + \"Brice Forbes\\nLexie Yates\\nJamar Kane\\nJensen Zamora\\nBrennan Carson\\nNicole Dougherty\\nKailey Burnett\\nFelicity Deleon\\nIsabela Fuentes\\nFinley Parker\\nErica Miles\""
   ]
  },
  {
   "cell_type": "code",
   "execution_count": 48,
   "id": "7a4b7cc2",
   "metadata": {},
   "outputs": [
    {
     "data": {
      "text/plain": [
       "278"
      ]
     },
     "execution_count": 48,
     "metadata": {},
     "output_type": "execute_result"
    }
   ],
   "source": [
    "file= open(\"student_names.txt\", \"w\")\n",
    "file.write(names)"
   ]
  },
  {
   "cell_type": "code",
   "execution_count": 49,
   "id": "3480326b",
   "metadata": {
    "scrolled": true
   },
   "outputs": [
    {
     "name": "stdout",
     "output_type": "stream",
     "text": [
      "Mason Smith\n",
      "Olivia wWilliams \n",
      "Isabella Johns\n",
      "Steven Tyler\n",
      "Stevie Nicks\n",
      "Joe Cocker\n",
      "Patti LaBelle\n",
      "LÃ©onard Vinci\n",
      "Isaac Newton\n",
      "Brice Forbes\n",
      "Lexie Yates\n",
      "Jamar Kane\n",
      "Jensen Zamora\n",
      "Brennan Carson\n",
      "Nicole Dougherty\n",
      "Kailey Burnett\n",
      "Felicity Deleon\n",
      "Isabela Fuentes\n",
      "Finley Parker\n",
      "Erica Miles\n"
     ]
    }
   ],
   "source": [
    "file= open(\"student_names.txt\", \"r\")\n",
    "print(file.read())"
   ]
  },
  {
   "cell_type": "code",
   "execution_count": 55,
   "id": "5c6f9407",
   "metadata": {},
   "outputs": [
    {
     "name": "stdout",
     "output_type": "stream",
     "text": [
      "How many lines you want to display6\n",
      "Mason Smith\n",
      "\n",
      "Olivia wWilliams \n",
      "\n",
      "Isabella Johns\n",
      "\n",
      "Steven Tyler\n",
      "\n",
      "Stevie Nicks\n",
      "\n",
      "Joe Cocker\n",
      "\n"
     ]
    }
   ],
   "source": [
    "file= open(\"student_names.txt\", \"r\")\n",
    "n=int(input(\"How many first lines you want to display\"))\n",
    "if n<= 0:\n",
    "    print(\"Enter a positive integer value\")\n",
    "else:\n",
    "    for i in range(1,n+1):\n",
    "        line=file.readline()\n",
    "        print(line)\n",
    "file.close()        "
   ]
  },
  {
   "cell_type": "code",
   "execution_count": 56,
   "id": "7c708602",
   "metadata": {},
   "outputs": [
    {
     "name": "stdout",
     "output_type": "stream",
     "text": [
      "How many last lines you want to display7\n",
      "Brennan Carson\n",
      "\n",
      "Nicole Dougherty\n",
      "\n",
      "Kailey Burnett\n",
      "\n",
      "Felicity Deleon\n",
      "\n",
      "Isabela Fuentes\n",
      "\n",
      "Finley Parker\n",
      "\n",
      "Erica Miles\n"
     ]
    }
   ],
   "source": [
    "file= open(\"student_names.txt\", \"r\")\n",
    "m=int(input(\"How many last lines you want to display\"))\n",
    "if n<= 0:\n",
    "    print(\"Enter a positive integer value\")\n",
    "else:\n",
    "    for line in (file.readlines() [-m:]):\n",
    "        print(line)\n",
    "file.close() "
   ]
  },
  {
   "cell_type": "code",
   "execution_count": 59,
   "id": "2f36fbc3",
   "metadata": {},
   "outputs": [
    {
     "name": "stdout",
     "output_type": "stream",
     "text": [
      "enter a name you want to check if it exists in the file: Lexie Yates\n",
      "name found\n"
     ]
    }
   ],
   "source": [
    "file= open(\"student_names.txt\", \"r\")\n",
    "x= input(\"enter a name you want to check if it exists in the file: \")\n",
    "if(x in file.read()):\n",
    "    print(\"name found\")\n",
    "else:\n",
    "    print(\"name not found\")"
   ]
  },
  {
   "cell_type": "code",
   "execution_count": null,
   "id": "0f2768ec",
   "metadata": {},
   "outputs": [],
   "source": []
  }
 ],
 "metadata": {
  "celltoolbar": "Format de la Cellule Texte Brut",
  "kernelspec": {
   "display_name": "Python 3 (ipykernel)",
   "language": "python",
   "name": "python3"
  },
  "language_info": {
   "codemirror_mode": {
    "name": "ipython",
    "version": 3
   },
   "file_extension": ".py",
   "mimetype": "text/x-python",
   "name": "python",
   "nbconvert_exporter": "python",
   "pygments_lexer": "ipython3",
   "version": "3.9.7"
  }
 },
 "nbformat": 4,
 "nbformat_minor": 5
}
